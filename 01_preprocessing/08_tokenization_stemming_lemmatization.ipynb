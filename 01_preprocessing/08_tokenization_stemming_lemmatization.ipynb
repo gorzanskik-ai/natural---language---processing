{
  "nbformat": 4,
  "nbformat_minor": 0,
  "metadata": {
    "colab": {
      "provenance": [],
      "authorship_tag": "ABX9TyNDiahH223Yv66opqPqPz+/",
      "include_colab_link": true
    },
    "kernelspec": {
      "name": "python3",
      "display_name": "Python 3"
    },
    "language_info": {
      "name": "python"
    }
  },
  "cells": [
    {
      "cell_type": "markdown",
      "metadata": {
        "id": "view-in-github",
        "colab_type": "text"
      },
      "source": [
        "<a href=\"https://colab.research.google.com/github/gorzanskik-ai/natural-language-processing/blob/main/01_preprocessing/08_tokenization_stemming_lemmatization.ipynb\" target=\"_parent\"><img src=\"https://colab.research.google.com/assets/colab-badge.svg\" alt=\"Open In Colab\"/></a>"
      ]
    },
    {
      "cell_type": "code",
      "execution_count": null,
      "metadata": {
        "colab": {
          "base_uri": "https://localhost:8080/"
        },
        "id": "DWOOrfoE9Bnz",
        "outputId": "a3b205e8-929e-4618-8bff-171b16d561e5"
      },
      "outputs": [
        {
          "output_type": "stream",
          "name": "stderr",
          "text": [
            "[nltk_data] Downloading package punkt to /root/nltk_data...\n",
            "[nltk_data]   Package punkt is already up-to-date!\n",
            "[nltk_data] Downloading package rslp to /root/nltk_data...\n",
            "[nltk_data]   Package rslp is already up-to-date!\n",
            "[nltk_data] Downloading package wordnet to /root/nltk_data...\n"
          ]
        },
        {
          "output_type": "execute_result",
          "data": {
            "text/plain": [
              "True"
            ]
          },
          "metadata": {},
          "execution_count": 17
        }
      ],
      "source": [
        "import re\n",
        "import nltk\n",
        "nltk.download('punkt')\n",
        "nltk.download('rslp')\n",
        "nltk.download('wordnet')"
      ]
    },
    {
      "cell_type": "code",
      "source": [
        "text = \"What do you think about the latest news? \" \\\n",
        "               \"A group of scientists led by dr. Smith has discovered \" \\\n",
        "               \"a new method to stop the spread of pandemic.\""
      ],
      "metadata": {
        "id": "CYgOSMq89Gjp"
      },
      "execution_count": null,
      "outputs": []
    },
    {
      "cell_type": "markdown",
      "source": [
        "Tokenization"
      ],
      "metadata": {
        "id": "4Rk0fXej9JP4"
      }
    },
    {
      "cell_type": "code",
      "source": [
        "re.split('[.\\?!]', text)"
      ],
      "metadata": {
        "colab": {
          "base_uri": "https://localhost:8080/"
        },
        "id": "4_gT9FRe9kDo",
        "outputId": "93ebb96e-3036-4a85-f730-eb5d3f56ce34"
      },
      "execution_count": null,
      "outputs": [
        {
          "output_type": "execute_result",
          "data": {
            "text/plain": [
              "['What do you think about the latest news',\n",
              " ' A group of scientists led by dr',\n",
              " ' Smith has discovered a new method to stop the spread of pandemic',\n",
              " '']"
            ]
          },
          "metadata": {},
          "execution_count": 3
        }
      ]
    },
    {
      "cell_type": "code",
      "source": [
        "text.split()"
      ],
      "metadata": {
        "colab": {
          "base_uri": "https://localhost:8080/"
        },
        "id": "xsRJSoUd9pZI",
        "outputId": "915a085a-1144-4077-af20-19b4478da608"
      },
      "execution_count": null,
      "outputs": [
        {
          "output_type": "execute_result",
          "data": {
            "text/plain": [
              "['What',\n",
              " 'do',\n",
              " 'you',\n",
              " 'think',\n",
              " 'about',\n",
              " 'the',\n",
              " 'latest',\n",
              " 'news?',\n",
              " 'A',\n",
              " 'group',\n",
              " 'of',\n",
              " 'scientists',\n",
              " 'led',\n",
              " 'by',\n",
              " 'dr.',\n",
              " 'Smith',\n",
              " 'has',\n",
              " 'discovered',\n",
              " 'a',\n",
              " 'new',\n",
              " 'method',\n",
              " 'to',\n",
              " 'stop',\n",
              " 'the',\n",
              " 'spread',\n",
              " 'of',\n",
              " 'pandemic.']"
            ]
          },
          "metadata": {},
          "execution_count": 4
        }
      ]
    },
    {
      "cell_type": "code",
      "source": [
        "nltk.sent_tokenize(text)"
      ],
      "metadata": {
        "colab": {
          "base_uri": "https://localhost:8080/"
        },
        "id": "YxDRVgWO9rB4",
        "outputId": "c451249f-0463-41e1-d77b-446720a0b2d0"
      },
      "execution_count": null,
      "outputs": [
        {
          "output_type": "execute_result",
          "data": {
            "text/plain": [
              "['What do you think about the latest news?',\n",
              " 'A group of scientists led by dr. Smith has discovered a new method to stop the spread of pandemic.']"
            ]
          },
          "metadata": {},
          "execution_count": 8
        }
      ]
    },
    {
      "cell_type": "code",
      "source": [
        "nltk.word_tokenize(text)"
      ],
      "metadata": {
        "colab": {
          "base_uri": "https://localhost:8080/"
        },
        "id": "H3O-4iSH-Nax",
        "outputId": "1fed3e6e-1829-49be-c73a-96a947f40155"
      },
      "execution_count": null,
      "outputs": [
        {
          "output_type": "execute_result",
          "data": {
            "text/plain": [
              "['What',\n",
              " 'do',\n",
              " 'you',\n",
              " 'think',\n",
              " 'about',\n",
              " 'the',\n",
              " 'latest',\n",
              " 'news',\n",
              " '?',\n",
              " 'A',\n",
              " 'group',\n",
              " 'of',\n",
              " 'scientists',\n",
              " 'led',\n",
              " 'by',\n",
              " 'dr.',\n",
              " 'Smith',\n",
              " 'has',\n",
              " 'discovered',\n",
              " 'a',\n",
              " 'new',\n",
              " 'method',\n",
              " 'to',\n",
              " 'stop',\n",
              " 'the',\n",
              " 'spread',\n",
              " 'of',\n",
              " 'pandemic',\n",
              " '.']"
            ]
          },
          "metadata": {},
          "execution_count": 9
        }
      ]
    },
    {
      "cell_type": "markdown",
      "source": [
        "Stemming"
      ],
      "metadata": {
        "id": "12kTZ7YY-TSo"
      }
    },
    {
      "cell_type": "code",
      "source": [
        "stemmers = [\n",
        "    nltk.stem.LancasterStemmer(),\n",
        "    nltk.stem.PorterStemmer(),\n",
        "    nltk.stem.RSLPStemmer(),\n",
        "    nltk.stem.SnowballStemmer(language=\"english\"),\n",
        "]\n",
        "\n",
        "for stemmer in stemmers:\n",
        "    tokens = nltk.word_tokenize(text)\n",
        "    stems = map(stemmer.stem, tokens)\n",
        "    output_text = ' '.join(stems)\n",
        "    print(f'{stemmer.__class__.__name__}: \\n', output_text, '\\n')"
      ],
      "metadata": {
        "colab": {
          "base_uri": "https://localhost:8080/"
        },
        "id": "_thBM3D--iyJ",
        "outputId": "072356b6-2cb7-4da7-8f39-a581f7925e9c"
      },
      "execution_count": null,
      "outputs": [
        {
          "output_type": "stream",
          "name": "stdout",
          "text": [
            "LancasterStemmer: \n",
            " what do you think about the latest new ? a group of sci led by dr. smi has discov a new method to stop the spread of pandem . \n",
            "\n",
            "PorterStemmer: \n",
            " what do you think about the latest news ? a group of scientist led by dr. smith ha discov a new method to stop the spread of pandem . \n",
            "\n",
            "RSLPStemmer: \n",
            " what do you think about the latest new ? a group of scientist led by dr. smith ha discovered a new method to stop the spread of pandemic . \n",
            "\n",
            "SnowballStemmer: \n",
            " what do you think about the latest news ? a group of scientist led by dr. smith has discov a new method to stop the spread of pandem . \n",
            "\n"
          ]
        }
      ]
    },
    {
      "cell_type": "code",
      "source": [
        "for stemmer in stemmers:\n",
        "    tokens = nltk.word_tokenize(\n",
        "        \"Ciekawe jak algorytmy dedykowane dla \" \\\n",
        "        \"języka angielskiego poradzą sobie z \" \\\n",
        "        \"tekstem w języku polskim. Angielski \" \\\n",
        "        \"różni się przecież znacząco, prawda?\"\n",
        "    )\n",
        "    stems = map(stemmer.stem, tokens)\n",
        "    output_text = \" \".join(stems)\n",
        "    print(f\"{stemmer.__class__.__name__}:\\n\", output_text, \"\\n\")"
      ],
      "metadata": {
        "colab": {
          "base_uri": "https://localhost:8080/"
        },
        "id": "WjzhX5Nq_V1A",
        "outputId": "fe80acab-f72a-470c-da3a-a8f98205abfa"
      },
      "execution_count": null,
      "outputs": [
        {
          "output_type": "stream",
          "name": "stdout",
          "text": [
            "LancasterStemmer:\n",
            " ciekaw jak algorytmy dedykow dla języka angielskiego poradzą soby z tekstem w języku polskim . angielsk różni się przecież znacząco , prawd ? \n",
            "\n",
            "PorterStemmer:\n",
            " ciekaw jak algorytmi dedykowan dla języka angielskiego poradzą sobi z tekstem w języku polskim . angielski różni się przecież znacząco , prawda ? \n",
            "\n",
            "RSLPStemmer:\n",
            " ciekaw jak algorytmy dedykowan dla język angielskieg poradzą sobi z tekst w języku polskim . angielsk różn się przecież znacząc , prawd ? \n",
            "\n",
            "SnowballStemmer:\n",
            " ciekaw jak algorytmi dedykowan dla języka angielskiego poradzą sobi z tekstem w języku polskim . angielski różni się przecież znacząco , prawda ? \n",
            "\n"
          ]
        }
      ]
    },
    {
      "cell_type": "markdown",
      "source": [
        "Lemmatization"
      ],
      "metadata": {
        "id": "7_Q3ggn-BJDp"
      }
    },
    {
      "cell_type": "code",
      "source": [
        "lemmatizer = nltk.stem.WordNetLemmatizer()\n",
        "tokens = nltk.word_tokenize(text)\n",
        "stems = map(lemmatizer.lemmatize, tokens)\n",
        "output_text = ' '.join(stems)\n",
        "output_text"
      ],
      "metadata": {
        "colab": {
          "base_uri": "https://localhost:8080/",
          "height": 35
        },
        "id": "5M_KaUJFBPsA",
        "outputId": "dc0d1047-ce61-4007-f19f-de7b41c2ecce"
      },
      "execution_count": null,
      "outputs": [
        {
          "output_type": "execute_result",
          "data": {
            "text/plain": [
              "'What do you think about the latest news ? A group of scientist led by dr. Smith ha discovered a new method to stop the spread of pandemic .'"
            ],
            "application/vnd.google.colaboratory.intrinsic+json": {
              "type": "string"
            }
          },
          "metadata": {},
          "execution_count": 18
        }
      ]
    },
    {
      "cell_type": "code",
      "source": [
        "from nltk.corpus.reader import wordnet\n",
        "lemmatizer.lemmatize('worse', pos=wordnet.ADJ)"
      ],
      "metadata": {
        "colab": {
          "base_uri": "https://localhost:8080/",
          "height": 35
        },
        "id": "BnRHEhLzB0qY",
        "outputId": "08793931-980b-47b7-e750-8c38c11dcacb"
      },
      "execution_count": null,
      "outputs": [
        {
          "output_type": "execute_result",
          "data": {
            "text/plain": [
              "'bad'"
            ],
            "application/vnd.google.colaboratory.intrinsic+json": {
              "type": "string"
            }
          },
          "metadata": {},
          "execution_count": 19
        }
      ]
    },
    {
      "cell_type": "code",
      "source": [
        "lemmatizer.lemmatize('worse')"
      ],
      "metadata": {
        "colab": {
          "base_uri": "https://localhost:8080/",
          "height": 35
        },
        "id": "uJV_40IkCiTB",
        "outputId": "a64f35b2-abf0-43b1-a3eb-ed8e6281c3a2"
      },
      "execution_count": null,
      "outputs": [
        {
          "output_type": "execute_result",
          "data": {
            "text/plain": [
              "'worse'"
            ],
            "application/vnd.google.colaboratory.intrinsic+json": {
              "type": "string"
            }
          },
          "metadata": {},
          "execution_count": 20
        }
      ]
    },
    {
      "cell_type": "code",
      "source": [],
      "metadata": {
        "id": "YQUv1znvClDR"
      },
      "execution_count": null,
      "outputs": []
    }
  ]
}