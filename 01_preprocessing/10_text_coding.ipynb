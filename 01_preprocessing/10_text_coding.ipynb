{
  "nbformat": 4,
  "nbformat_minor": 0,
  "metadata": {
    "colab": {
      "provenance": [],
      "authorship_tag": "ABX9TyM1tq1yuZ5YjlvSIZeu7f79",
      "include_colab_link": true
    },
    "kernelspec": {
      "name": "python3",
      "display_name": "Python 3"
    },
    "language_info": {
      "name": "python"
    }
  },
  "cells": [
    {
      "cell_type": "markdown",
      "metadata": {
        "id": "view-in-github",
        "colab_type": "text"
      },
      "source": [
        "<a href=\"https://colab.research.google.com/github/gorzanskik-ai/natural-language-processing/blob/main/01_preprocessing/10_text_coding.ipynb\" target=\"_parent\"><img src=\"https://colab.research.google.com/assets/colab-badge.svg\" alt=\"Open In Colab\"/></a>"
      ]
    },
    {
      "cell_type": "code",
      "execution_count": 1,
      "metadata": {
        "colab": {
          "base_uri": "https://localhost:8080/"
        },
        "id": "nILL2sg9rswH",
        "outputId": "35a941bc-5e5c-426f-9cfa-4c60212c6048"
      },
      "outputs": [
        {
          "output_type": "execute_result",
          "data": {
            "text/plain": [
              "['i', 'want', 'to', 'check', 'how', 'the', 'bag', 'of', 'words', 'work']"
            ]
          },
          "metadata": {},
          "execution_count": 1
        }
      ],
      "source": [
        "text = 'I want to check how the bag of words work'.lower().split()\n",
        "text"
      ]
    },
    {
      "cell_type": "markdown",
      "source": [
        "Bag of Words (BoW)"
      ],
      "metadata": {
        "id": "bRAFeaixytj8"
      }
    },
    {
      "cell_type": "code",
      "source": [
        "from sklearn.feature_extraction.text import CountVectorizer"
      ],
      "metadata": {
        "id": "NtnlxsohyGYB"
      },
      "execution_count": 2,
      "outputs": []
    },
    {
      "cell_type": "code",
      "source": [
        "vectorizer = CountVectorizer()\n",
        "texts = ['I want to check how the bag of words work',\n",
        "        'Check the bag',\n",
        "        'I check the work of the bag']\n",
        "X = vectorizer.fit_transform(texts)\n",
        "X.toarray()"
      ],
      "metadata": {
        "colab": {
          "base_uri": "https://localhost:8080/"
        },
        "id": "psXjnTWcySlh",
        "outputId": "34f55a9e-0f94-445b-f940-a0242fde8a19"
      },
      "execution_count": 5,
      "outputs": [
        {
          "output_type": "execute_result",
          "data": {
            "text/plain": [
              "array([[1, 1, 1, 1, 1, 1, 1, 1, 1],\n",
              "       [1, 1, 0, 0, 1, 0, 0, 0, 0],\n",
              "       [1, 1, 0, 1, 2, 0, 0, 0, 1]])"
            ]
          },
          "metadata": {},
          "execution_count": 5
        }
      ]
    },
    {
      "cell_type": "code",
      "source": [
        "vectorizer.vocabulary_"
      ],
      "metadata": {
        "colab": {
          "base_uri": "https://localhost:8080/"
        },
        "id": "U8xJb0UDyoJI",
        "outputId": "e647a8f7-d31c-441f-d9a4-5a6fba6888f0"
      },
      "execution_count": 6,
      "outputs": [
        {
          "output_type": "execute_result",
          "data": {
            "text/plain": [
              "{'want': 6,\n",
              " 'to': 5,\n",
              " 'check': 1,\n",
              " 'how': 2,\n",
              " 'the': 4,\n",
              " 'bag': 0,\n",
              " 'of': 3,\n",
              " 'words': 7,\n",
              " 'work': 8}"
            ]
          },
          "metadata": {},
          "execution_count": 6
        }
      ]
    },
    {
      "cell_type": "code",
      "source": [
        "#words and bigrams\n",
        "vectorizer = CountVectorizer(ngram_range=(1, 2))\n",
        "X = vectorizer.fit_transform(texts)\n",
        "X.toarray()"
      ],
      "metadata": {
        "colab": {
          "base_uri": "https://localhost:8080/"
        },
        "id": "hysctZ_Xy1vv",
        "outputId": "303f5fe2-e4f2-4a51-cd3e-fd81fd172cf9"
      },
      "execution_count": 7,
      "outputs": [
        {
          "output_type": "execute_result",
          "data": {
            "text/plain": [
              "array([[1, 1, 1, 1, 0, 1, 1, 1, 0, 1, 1, 1, 0, 1, 1, 1, 1, 1, 1, 1, 0],\n",
              "       [1, 0, 1, 0, 1, 0, 0, 0, 0, 0, 1, 1, 0, 0, 0, 0, 0, 0, 0, 0, 0],\n",
              "       [1, 0, 1, 0, 1, 0, 0, 1, 1, 0, 2, 1, 1, 0, 0, 0, 0, 0, 0, 1, 1]])"
            ]
          },
          "metadata": {},
          "execution_count": 7
        }
      ]
    },
    {
      "cell_type": "code",
      "source": [
        "vectorizer.vocabulary_"
      ],
      "metadata": {
        "colab": {
          "base_uri": "https://localhost:8080/"
        },
        "id": "G41Sa5tNzpoQ",
        "outputId": "c002b424-8a17-4029-d52e-e7d2ce0cc44e"
      },
      "execution_count": 9,
      "outputs": [
        {
          "output_type": "execute_result",
          "data": {
            "text/plain": [
              "{'want': 15,\n",
              " 'to': 13,\n",
              " 'check': 2,\n",
              " 'how': 5,\n",
              " 'the': 10,\n",
              " 'bag': 0,\n",
              " 'of': 7,\n",
              " 'words': 17,\n",
              " 'work': 19,\n",
              " 'want to': 16,\n",
              " 'to check': 14,\n",
              " 'check how': 3,\n",
              " 'how the': 6,\n",
              " 'the bag': 11,\n",
              " 'bag of': 1,\n",
              " 'of words': 9,\n",
              " 'words work': 18,\n",
              " 'check the': 4,\n",
              " 'the work': 12,\n",
              " 'work of': 20,\n",
              " 'of the': 8}"
            ]
          },
          "metadata": {},
          "execution_count": 9
        }
      ]
    },
    {
      "cell_type": "markdown",
      "source": [
        "TFIDF"
      ],
      "metadata": {
        "id": "pzzNKJAtzuUI"
      }
    },
    {
      "cell_type": "code",
      "source": [
        "from sklearn.feature_extraction.text import TfidfVectorizer"
      ],
      "metadata": {
        "id": "-7ngl5mj0u8A"
      },
      "execution_count": 10,
      "outputs": []
    },
    {
      "cell_type": "code",
      "source": [
        "vectorizer = TfidfVectorizer()\n",
        "X = vectorizer.fit_transform(texts)\n",
        "X.toarray()"
      ],
      "metadata": {
        "colab": {
          "base_uri": "https://localhost:8080/"
        },
        "id": "jAFRqq7z2Fhx",
        "outputId": "2aa98029-64e5-4f79-e7ab-215e2198c759"
      },
      "execution_count": 13,
      "outputs": [
        {
          "output_type": "execute_result",
          "data": {
            "text/plain": [
              "array([[0.2371344 , 0.2371344 , 0.40150344, 0.30535371, 0.2371344 ,\n",
              "        0.40150344, 0.40150344, 0.40150344, 0.30535371],\n",
              "       [0.57735027, 0.57735027, 0.        , 0.        , 0.57735027,\n",
              "        0.        , 0.        , 0.        , 0.        ],\n",
              "       [0.32762681, 0.32762681, 0.        , 0.42187916, 0.65525361,\n",
              "        0.        , 0.        , 0.        , 0.42187916]])"
            ]
          },
          "metadata": {},
          "execution_count": 13
        }
      ]
    },
    {
      "cell_type": "code",
      "source": [
        "vectorizer.vocabulary_"
      ],
      "metadata": {
        "colab": {
          "base_uri": "https://localhost:8080/"
        },
        "id": "ceY95ZWv2PVY",
        "outputId": "187639bf-ba7c-46fc-ac09-f161fb4be845"
      },
      "execution_count": 12,
      "outputs": [
        {
          "output_type": "execute_result",
          "data": {
            "text/plain": [
              "{'want': 6,\n",
              " 'to': 5,\n",
              " 'check': 1,\n",
              " 'how': 2,\n",
              " 'the': 4,\n",
              " 'bag': 0,\n",
              " 'of': 3,\n",
              " 'words': 7,\n",
              " 'work': 8}"
            ]
          },
          "metadata": {},
          "execution_count": 12
        }
      ]
    },
    {
      "cell_type": "code",
      "source": [
        "vectorizer = TfidfVectorizer(ngram_range=(1, 2))\n",
        "X = vectorizer.fit_transform(texts)\n",
        "X.toarray()"
      ],
      "metadata": {
        "colab": {
          "base_uri": "https://localhost:8080/"
        },
        "id": "rF81TCiH2SnD",
        "outputId": "67437712-98a4-4172-925b-a03009dc29b9"
      },
      "execution_count": 14,
      "outputs": [
        {
          "output_type": "execute_result",
          "data": {
            "text/plain": [
              "array([[0.16043601, 0.27164178, 0.16043601, 0.27164178, 0.        ,\n",
              "        0.27164178, 0.27164178, 0.20659057, 0.        , 0.27164178,\n",
              "        0.16043601, 0.16043601, 0.        , 0.27164178, 0.27164178,\n",
              "        0.27164178, 0.27164178, 0.27164178, 0.27164178, 0.20659057,\n",
              "        0.        ],\n",
              "       [0.42040099, 0.        , 0.42040099, 0.        , 0.54134281,\n",
              "        0.        , 0.        , 0.        , 0.        , 0.        ,\n",
              "        0.42040099, 0.42040099, 0.        , 0.        , 0.        ,\n",
              "        0.        , 0.        , 0.        , 0.        , 0.        ,\n",
              "        0.        ],\n",
              "       [0.22046219, 0.        , 0.22046219, 0.        , 0.28388521,\n",
              "        0.        , 0.        , 0.28388521, 0.37327493, 0.        ,\n",
              "        0.44092438, 0.22046219, 0.37327493, 0.        , 0.        ,\n",
              "        0.        , 0.        , 0.        , 0.        , 0.28388521,\n",
              "        0.37327493]])"
            ]
          },
          "metadata": {},
          "execution_count": 14
        }
      ]
    },
    {
      "cell_type": "code",
      "source": [
        "vectorizer.vocabulary_"
      ],
      "metadata": {
        "colab": {
          "base_uri": "https://localhost:8080/"
        },
        "id": "fEFWsdhV2mco",
        "outputId": "afe7cf66-ebbf-42ab-fa13-3dfe01979fda"
      },
      "execution_count": 15,
      "outputs": [
        {
          "output_type": "execute_result",
          "data": {
            "text/plain": [
              "{'want': 15,\n",
              " 'to': 13,\n",
              " 'check': 2,\n",
              " 'how': 5,\n",
              " 'the': 10,\n",
              " 'bag': 0,\n",
              " 'of': 7,\n",
              " 'words': 17,\n",
              " 'work': 19,\n",
              " 'want to': 16,\n",
              " 'to check': 14,\n",
              " 'check how': 3,\n",
              " 'how the': 6,\n",
              " 'the bag': 11,\n",
              " 'bag of': 1,\n",
              " 'of words': 9,\n",
              " 'words work': 18,\n",
              " 'check the': 4,\n",
              " 'the work': 12,\n",
              " 'work of': 20,\n",
              " 'of the': 8}"
            ]
          },
          "metadata": {},
          "execution_count": 15
        }
      ]
    },
    {
      "cell_type": "code",
      "source": [],
      "metadata": {
        "id": "81Zkmt152olg"
      },
      "execution_count": null,
      "outputs": []
    }
  ]
}